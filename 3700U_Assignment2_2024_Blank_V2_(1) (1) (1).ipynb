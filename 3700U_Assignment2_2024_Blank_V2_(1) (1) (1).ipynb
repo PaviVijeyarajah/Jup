{
 "cells": [
  {
   "cell_type": "markdown",
   "metadata": {
    "id": "6P6bAuoTZ_g3"
   },
   "source": [
    "# INFR 3700U Assignment 2 Fall 2024"
   ]
  },
  {
   "cell_type": "markdown",
   "metadata": {
    "id": "0H-Yv6NgaAp6"
   },
   "source": [
    "This notebook contains the questions for Assignment 2. Make sure to complete this assignment individually and appropriately reference all external code and documentation used. ***You must upload this completed Jupyter Notebook file as your submission (other file types are not permitted and will result in a grade of 0).***\n",
    "\n",
    "* If you have trouble running neural network models on your laptop, you can use online platforms, like **[Google Colab](https://colab.research.google.com/)**.\n",
    "* All Figures should have a x- and y-axis label and an appropriate title.\n",
    "**Ensure that your code runs correctly by choosing \"Kernel -> Restart and Cell -> Run All\" before submitting.**"
   ]
  },
  {
   "cell_type": "code",
   "execution_count": 1,
   "metadata": {
    "id": "D1AcGWpJxVmO"
   },
   "outputs": [],
   "source": [
    "import warnings\n",
    "warnings.filterwarnings('ignore')\n",
    "\n",
    "import numpy as np\n",
    "import pandas as pd\n",
    "import matplotlib.pyplot as plt\n",
    "%matplotlib inline\n",
    "\n",
    "from sklearn.model_selection import train_test_split, GridSearchCV\n",
    "from sklearn.metrics import accuracy_score, f1_score, recall_score, precision_score, confusion_matrix\n",
    "from sklearn.preprocessing import StandardScaler\n",
    "from sklearn.ensemble import RandomForestClassifier\n",
    "\n",
    "from tensorflow.keras import Model, Sequential\n",
    "from tensorflow.keras.layers import Dense, Input\n",
    "import tensorflow as tf\n",
    "\n",
    "import time\n",
    "\n",
    "#add other imports here (if any, for example, pytorch)\n",
    "from tensorflow.keras.optimizers import SGD"
   ]
  },
  {
   "cell_type": "markdown",
   "metadata": {
    "id": "PaD6nkpfZ1zY"
   },
   "source": [
    "## Data set\n",
    "As modern vehicles have lots of connectivity, protecting in-vehicle network from cyber-attacks is an important issue. Controller Area Network (CAN) is the standard protocol for the in-vehicle network. But, the lack of security features in the CAN protocol makes vehicles vulnerable to attacks. The message injection attack is a representative attack type which injects fabricated messages to deceive electronic control unit (ECUs) or cause malfunctions. Through this notebook, you will develop ML/DL modules to detect different types of CAN attacks and protect vehicle networks.\n",
    "\n",
    "### Source\n",
    "The dataset (CAN-intrusion-dataset-10000.csv) has been constructed by logging CAN traffic via the OBD-II port from a real vehicle while message injection attacks were performing. The classification goal is to distinguish cyber-attacks and normal samples by classifying the data samples. The dataset includes over 10,000 records and 10 attributes (including the target variable \"Label\").\n",
    "\n",
    "### Variables\n",
    "The definitions of the attributes are as followss.\n",
    "\n",
    "* CAN ID : identifier of CAN message.\n",
    "* DATA[0~7] : data value (byte), ranging from 0 to 255. They have been converted from hexadecimal numbers to decimal numbers.  \n",
    "* Label : 0 indicates 'Normal', and 1 indicates an attack (including DoS, Fuzzy, Gear, or RPM)."
   ]
  },
  {
   "cell_type": "markdown",
   "metadata": {
    "id": "Ils9GU09Z1za"
   },
   "source": [
    "## Question 1: Load Datasets (15pts)\n",
    "A) Load the Data set CAN-intrusion-dataset-10000.csv\n",
    "\n",
    "B) Split the data into equals-sized training and test sets (use a random_state = 1, and do not shuffle the data).  \n",
    "\n",
    "C) How many observations do you have in your training set?  \n",
    "\n",
    "D) How many observations for each class in your training set?\n",
    "\n",
    "E) Z-standarize the input features of the training and test sets."
   ]
  },
  {
   "cell_type": "code",
   "execution_count": 2,
   "metadata": {
    "id": "YwaDJvIiZ1zb"
   },
   "outputs": [],
   "source": [
    "### Q1A)\n",
    "\n",
    "#Loading the Data\n",
    "myData=pd.read_csv('CAN-intrusion-dataset-10000.csv')"
   ]
  },
  {
   "cell_type": "code",
   "execution_count": 3,
   "metadata": {
    "id": "UY1percJxVmQ"
   },
   "outputs": [],
   "source": [
    "### Q1B)\n",
    "\n",
    "#Setting the features (everything except Label)\n",
    "X = myData.drop(columns='Label')\n",
    "#Setting the target variable (Label)\n",
    "y = myData['Label']\n",
    "\n",
    "#Data Splitting with training set and test set at 50% each\n",
    "X_train, X_test, y_train, y_test = train_test_split(X, y, test_size = 0.50, random_state = 1)\n"
   ]
  },
  {
   "cell_type": "code",
   "execution_count": 4,
   "metadata": {
    "colab": {
     "base_uri": "https://localhost:8080/"
    },
    "id": "4jRUL0WoxVmQ",
    "outputId": "5a00f95e-1ab1-4dbe-e89b-47349836a678"
   },
   "outputs": [
    {
     "name": "stdout",
     "output_type": "stream",
     "text": [
      "Training data shape: 5000, Training labels shape: 5000\n"
     ]
    }
   ],
   "source": [
    "### Q1C)\n",
    "\n",
    "#Printing the observations in the training set\n",
    "print(f'Training data shape: {X_train.shape[0]}, Training labels shape: {y_train.shape[0]}')"
   ]
  },
  {
   "cell_type": "code",
   "execution_count": 5,
   "metadata": {
    "colab": {
     "base_uri": "https://localhost:8080/"
    },
    "id": "aGCPyyJ0xVmR",
    "outputId": "7bbc5be0-a552-4454-cd87-5760b1fc9c03"
   },
   "outputs": [
    {
     "name": "stdout",
     "output_type": "stream",
     "text": [
      "Number of observations in each class (0:normal) (1:attack):\n",
      "Label\n",
      "0    4262\n",
      "1     738\n",
      "Name: count, dtype: int64\n"
     ]
    }
   ],
   "source": [
    "### Q1D)\n",
    "\n",
    "#Counting the number of 0's and 1's in the y_train part of the data\n",
    "observations = y_train.value_counts()\n",
    "\n",
    "#Printing the observations in each class (0,1)\n",
    "print(f'Number of observations in each class (0:normal) (1:attack):\\n{observations}')"
   ]
  },
  {
   "cell_type": "code",
   "execution_count": 6,
   "metadata": {
    "id": "X6gjF-MexVmR"
   },
   "outputs": [],
   "source": [
    "### Q1E)\n",
    "\n",
    "#To standardize the features\n",
    "scaler = StandardScaler()\n",
    "\n",
    "#fit scaler to the training set features\n",
    "scaler.fit(X_train)\n",
    "\n",
    "#scale the training and test set features using the transform method\n",
    "X_train_scaled = scaler.transform(X_train)\n",
    "X_test_scaled = scaler.transform(X_test)"
   ]
  },
  {
   "cell_type": "markdown",
   "metadata": {
    "id": "C1tPRpxyZ1zh"
   },
   "source": [
    "## Question 2: Random Forest (20pts)\n",
    "A) Apply a Random Forest model that consists of 10 base decision trees for classifying the events as normal or anomalous. Fill in the myRandomForest function, which accepts as input the training set and returns a fully trained model.\n",
    "\n",
    "B) Call the funcion from 2A, and evaluate the performance of your models using 3 metrics of `Recall`, `Preceision` and `f1 score`. Additionally, print out the confusion matrix of your three models on the test set. Lastly, print-out the model training time (only training, do not including testing time).\n",
    "\n",
    "C) Based on the trained Random Forest model, use a horizontal bar plot to plot the feature importance scores of all features (CAN_ID, DATA_0-DATA_7)."
   ]
  },
  {
   "cell_type": "code",
   "execution_count": 7,
   "metadata": {
    "id": "ogwwIkaDxVmS"
   },
   "outputs": [],
   "source": [
    "### Q2A)\n",
    "\n",
    "#This function takes Xtrain and ytrain as parameters and creates a random forest model with 10 trees and returns a trained model\n",
    "def myRandomForest(Xtrain, ytrain):\n",
    "    myRandomForestModel = RandomForestClassifier(n_estimators=10)\n",
    "    myRandomForestModel.fit(X_train,y_train)\n",
    "    return myRandomForestModel"
   ]
  },
  {
   "cell_type": "code",
   "execution_count": 8,
   "metadata": {
    "colab": {
     "base_uri": "https://localhost:8080/"
    },
    "id": "y-HpNThdxVmS",
    "outputId": "96352249-5357-4eb3-9891-271dc1592727"
   },
   "outputs": [
    {
     "name": "stdout",
     "output_type": "stream",
     "text": [
      "Preceision:  1.0\n",
      "F1 Score:  0.9992663242846662\n",
      "Preceision:  1.0\n",
      "The confusion matrix function returned:\n",
      "True Negatives:\t\t4318\n",
      "True Positives:\t\t681\n",
      "False Negatives:\t1\n",
      "False Positives:\t0\n",
      "\n",
      "Training Time:  0.08\n"
     ]
    }
   ],
   "source": [
    "### Q2B)\n",
    "\n",
    "#Time the model training time\n",
    "start=time.time()\n",
    "#Call the funcion from 2A a\n",
    "rf = myRandomForest(X_train,y_train)\n",
    "stop=time.time()\n",
    "\n",
    "#Predicting the test to evaluate performance\n",
    "y_pred_test = rf.predict(X_test)\n",
    "\n",
    "#Performance of Recall\n",
    "calculated_recall = recall_score(y_test, y_pred_test)\n",
    "\n",
    "#Performance of Preceision\n",
    "calculated_precision = precision_score(y_test, y_pred_test)\n",
    "\n",
    "#Performance of f1 score\n",
    "calculated_f1 = f1_score(y_test, y_pred_test)\n",
    "\n",
    "#print out the confusion matrix of your three models on the test set\n",
    "tn, fp, fn, tp = confusion_matrix(y_test, y_pred_test).ravel()\n",
    "\n",
    "training_time=stop-start\n",
    "\n",
    "#print-out the performance and time\n",
    "print(\"Preceision: \",calculated_precision)\n",
    "print(\"F1 Score: \",calculated_f1)\n",
    "print(\"Preceision: \",calculated_precision)\n",
    "print(\"The confusion matrix function returned:\\nTrue Negatives:\\t\\t{0}\\nTrue Positives:\\t\\t{1}\\nFalse Negatives:\\t{2}\\nFalse Positives:\\t{3}\\n\".format(tn,tp,fn,fp))\n",
    "print(\"Training Time: \", format(training_time, '.2f'))\n"
   ]
  },
  {
   "cell_type": "code",
   "execution_count": 9,
   "metadata": {
    "colab": {
     "base_uri": "https://localhost:8080/",
     "height": 410
    },
    "id": "CfW6rxrMxVmS",
    "outputId": "5cffd734-0d71-4d50-9be9-d7e68467caff"
   },
   "outputs": [
    {
     "data": {
      "image/png": "[encoded data removed]",
      "text/plain": [
       "<Figure size 800x400 with 1 Axes>"
      ]
     },
     "metadata": {},
     "output_type": "display_data"
    }
   ],
   "source": [
    "### Q2C)\n",
    "\n",
    "#Get the feature names from the columns\n",
    "feature_names = X.columns\n",
    "importances = rf.feature_importances_\n",
    "\n",
    "#Plot graph\n",
    "plt.figure(figsize=(8, 4))\n",
    "#Horizontal bar graph with features importance in the x axis and features in the y-axis\n",
    "plt.barh(feature_names, importances)\n",
    "plt.xlabel('Feature Importance')\n",
    "plt.ylabel('Features')\n",
    "plt.title('Random Forest Feature Importance Scores')\n",
    "plt.show()"
   ]
  },
  {
   "cell_type": "markdown",
   "metadata": {
    "id": "OJKS46WTZ1zp"
   },
   "source": [
    "## Question 3: Single Layer Neural Networks (30 pts)\n",
    "In this task we aim to build models with better performance, using \"deep\" learning. __You can use Keras library for building deep learning models.__\n",
    "\n",
    "A) Implement a single-layer neural network model that is used to classify the CAN intrusion data samples into normal and anomalous classes (0: normal, 1: attack). Use the standarized training set from Q1E) to train the network.\n",
    "\n",
    "The details of the model are as follows:\n",
    "* Use a Sigmoid as the output layer acitivation function to enable non-linearity.\n",
    "* Use the binary cross-entropy loss as a training criterion.\n",
    "* Use Stochastic gradient descent optimizer with a learning rate of 0.1.\n",
    "* Run the model for 10 iterations/epochs.\n",
    "\n",
    "B) Record the loss for each iteration, and make a plot of iterations/epochs vs loss(Binary Cross Entropy).\n",
    "\n",
    "C) Print out the precision, recall, and F1-score of the test set.\n",
    "\n",
    "D) Print out the model execution time (including both training and testing time) in milliseconds. Please keep two decimal places."
   ]
  },
  {
   "cell_type": "code",
   "execution_count": 10,
   "metadata": {
    "colab": {
     "base_uri": "https://localhost:8080/"
    },
    "id": "5sMohPdkxVmT",
    "outputId": "cca211ab-04df-4927-b1db-5c9fb7af36c8"
   },
   "outputs": [
    {
     "name": "stdout",
     "output_type": "stream",
     "text": [
      "Epoch 1/10\n",
      "\u001b[1m157/157\u001b[0m \u001b[32m━━━━━━━━━━━━━━━━━━━━\u001b[0m\u001b[37m\u001b[0m \u001b[1m1s\u001b[0m 3ms/step - loss: 0.5137\n",
      "Epoch 2/10\n",
      "\u001b[1m157/157\u001b[0m \u001b[32m━━━━━━━━━━━━━━━━━━━━\u001b[0m\u001b[37m\u001b[0m \u001b[1m1s\u001b[0m 4ms/step - loss: 0.3267\n",
      "Epoch 3/10\n",
      "\u001b[1m157/157\u001b[0m \u001b[32m━━━━━━━━━━━━━━━━━━━━\u001b[0m\u001b[37m\u001b[0m \u001b[1m0s\u001b[0m 2ms/step - loss: 0.3144\n",
      "Epoch 4/10\n",
      "\u001b[1m157/157\u001b[0m \u001b[32m━━━━━━━━━━━━━━━━━━━━\u001b[0m\u001b[37m\u001b[0m \u001b[1m1s\u001b[0m 4ms/step - loss: 0.2914\n",
      "Epoch 5/10\n",
      "\u001b[1m157/157\u001b[0m \u001b[32m━━━━━━━━━━━━━━━━━━━━\u001b[0m\u001b[37m\u001b[0m \u001b[1m1s\u001b[0m 3ms/step - loss: 0.2916\n",
      "Epoch 6/10\n",
      "\u001b[1m157/157\u001b[0m \u001b[32m━━━━━━━━━━━━━━━━━━━━\u001b[0m\u001b[37m\u001b[0m \u001b[1m1s\u001b[0m 5ms/step - loss: 0.3053\n",
      "Epoch 7/10\n",
      "\u001b[1m157/157\u001b[0m \u001b[32m━━━━━━━━━━━━━━━━━━━━\u001b[0m\u001b[37m\u001b[0m \u001b[1m1s\u001b[0m 5ms/step - loss: 0.2795\n",
      "Epoch 8/10\n",
      "\u001b[1m157/157\u001b[0m \u001b[32m━━━━━━━━━━━━━━━━━━━━\u001b[0m\u001b[37m\u001b[0m \u001b[1m1s\u001b[0m 6ms/step - loss: 0.3012\n",
      "Epoch 9/10\n",
      "\u001b[1m157/157\u001b[0m \u001b[32m━━━━━━━━━━━━━━━━━━━━\u001b[0m\u001b[37m\u001b[0m \u001b[1m1s\u001b[0m 6ms/step - loss: 0.2983\n",
      "Epoch 10/10\n",
      "\u001b[1m157/157\u001b[0m \u001b[32m━━━━━━━━━━━━━━━━━━━━\u001b[0m\u001b[37m\u001b[0m \u001b[1m1s\u001b[0m 4ms/step - loss: 0.2886\n"
     ]
    }
   ],
   "source": [
    "### Q3A)\n",
    "\n",
    "#Single layer neural network\n",
    "model = Sequential()\n",
    "#Output layer with input shape be the number of features\n",
    "model.add(Dense(1, input_shape=(X_train_scaled.shape[1],), activation = 'sigmoid'))\n",
    "\n",
    "#compile the model using Stochastic gradient descent with learning rate of 0.1 and using binary crossentropy as the loss\n",
    "model.compile(optimizer = SGD(learning_rate=0.1), loss='binary_crossentropy')\n",
    "\n",
    "#training time for 3D\n",
    "train_start=time.time()\n",
    "#fit the model and run it 10 iteration and print it (verbose)\n",
    "history =model.fit(X_train_scaled, y_train, epochs = 10, verbose=1)\n",
    "train_stop=time.time()"
   ]
  },
  {
   "cell_type": "code",
   "execution_count": 11,
   "metadata": {
    "colab": {
     "base_uri": "https://localhost:8080/",
     "height": 472
    },
    "id": "KiOBRhfqxVmT",
    "outputId": "54a5eace-1163-4542-fbc8-d0ca4da22962"
   },
   "outputs": [
    {
     "data": {
      "image/png": "[encoded data removed]",
      "text/plain": [
       "<Figure size 640x480 with 1 Axes>"
      ]
     },
     "metadata": {},
     "output_type": "display_data"
    }
   ],
   "source": [
    "### Q3B)\n",
    "#Get the loss values from each Epochs ran in 3A\n",
    "loss = history.history['loss']\n",
    "\n",
    "#Graph with epoch 1-10 in the x-axis and thier loss values in the y-axis\n",
    "plt.plot(range(1, 11), loss)\n",
    "plt.xlabel('Epochs')\n",
    "plt.ylabel('Loss')\n",
    "plt.title('Binary Cross Entropy')\n",
    "plt.show()"
   ]
  },
  {
   "cell_type": "code",
   "execution_count": 12,
   "metadata": {
    "colab": {
     "base_uri": "https://localhost:8080/"
    },
    "id": "d_iTMJ1axVmT",
    "outputId": "a43d04b8-9772-433b-8a1e-f546de6ab55c"
   },
   "outputs": [
    {
     "name": "stdout",
     "output_type": "stream",
     "text": [
      "\u001b[1m157/157\u001b[0m \u001b[32m━━━━━━━━━━━━━━━━━━━━\u001b[0m\u001b[37m\u001b[0m \u001b[1m1s\u001b[0m 5ms/step\n",
      "Recall:  0.5909090909090909\n",
      "Preceision:  0.8975501113585747\n",
      "F1 Score:  0.7126436781609196\n"
     ]
    }
   ],
   "source": [
    "### Q3C)\n",
    "\n",
    "#Testing time for 3D\n",
    "test_start=time.time()\n",
    "#Print out the precision, recall, and F1-score of the test set\n",
    "y_pred_test = model.predict(X_test_scaled)\n",
    "test_stop=time.time()\n",
    "\n",
    "#Using round on y_pred_test to keep the values either 0,1\n",
    "#Performance of Recall\n",
    "calculated_recall = recall_score(y_test, y_pred_test.round())\n",
    "\n",
    "#Performance of Preceision\n",
    "calculated_precision = precision_score(y_test, y_pred_test.round())\n",
    "\n",
    "#Performance of f1 score\n",
    "calculated_f1 = f1_score(y_test, y_pred_test.round())\n",
    "\n",
    "#Printing performance\n",
    "print(\"Recall: \",calculated_recall)\n",
    "print(\"Preceision: \",calculated_precision)\n",
    "print(\"F1 Score: \",calculated_f1)\n"
   ]
  },
  {
   "cell_type": "code",
   "execution_count": 13,
   "metadata": {
    "colab": {
     "base_uri": "https://localhost:8080/"
    },
    "id": "NRYfHDWkxVmT",
    "outputId": "8dd93e4b-132a-4002-e0ad-9e4eec9dd9c0"
   },
   "outputs": [
    {
     "name": "stdout",
     "output_type": "stream",
     "text": [
      "Execution Time:  10.77\n"
     ]
    }
   ],
   "source": [
    "#### Q3D)\n",
    "\n",
    "#get execution time from training time and testing time\n",
    "train_time=train_stop-train_start\n",
    "test_time=test_stop-test_start\n",
    "exec_time= train_time+test_time\n",
    "\n",
    "#Print execution time\n",
    "print(\"Execution Time: \", format(exec_time, '.2f'))"
   ]
  },
  {
   "cell_type": "markdown",
   "metadata": {
    "id": "FrN93T1gxVmT"
   },
   "source": [
    "## Question 4: Multi-Layer Perceptron (MLP) (35 pts)"
   ]
  },
  {
   "cell_type": "markdown",
   "metadata": {
    "id": "rXGNqdiTxVmU"
   },
   "source": [
    "A) Implement a Multi-Layer Perceptron (MLP) model (three hidden layers) that is used to classify the CAN intrusion data samples into normal and anomalous classes (0: normal, 1: attack). Use the standarized training set from Q1E) to train the network.\n",
    "The details of the model are as follows:\n",
    "* Each hidden layer have 8 neurons/units.\n",
    "* Use tanh function as the activation function for hidden layers.\n",
    "* Use a Sigmoid as the output layer acitivation function to enable non-linearity.  \n",
    "* Use Stochastic gradient descent optimizer with a learning rate of 0.1.\n",
    "* Run the model for 10 iterations/epochs\n",
    "\n",
    "B) Record the loss for each iteration, and make a plot of iterations/epochs vs loss(Binary Cross Entropy).\n",
    "\n",
    "C) Print out the precision, recall, and F1-score of the test set.\n",
    "\n",
    "D) Print out the model execution time (including both training and testing time) in milliseconds. Please keep two decimal places.\n",
    "\n",
    "E) Written Answer - Use the markdown cell to answer the following:\n",
    "- Compare the performance and execution time of your single layer neural network to the MLP model, and discuss the reasons."
   ]
  },
  {
   "cell_type": "code",
   "execution_count": 14,
   "metadata": {
    "colab": {
     "base_uri": "https://localhost:8080/"
    },
    "id": "Y-KjgWLZxVmU",
    "outputId": "929c0145-07df-4f63-bc31-56b87fb222fa"
   },
   "outputs": [
    {
     "name": "stdout",
     "output_type": "stream",
     "text": [
      "Epoch 1/10\n",
      "\u001b[1m157/157\u001b[0m \u001b[32m━━━━━━━━━━━━━━━━━━━━\u001b[0m\u001b[37m\u001b[0m \u001b[1m2s\u001b[0m 3ms/step - loss: 0.3713\n",
      "Epoch 2/10\n",
      "\u001b[1m157/157\u001b[0m \u001b[32m━━━━━━━━━━━━━━━━━━━━\u001b[0m\u001b[37m\u001b[0m \u001b[1m1s\u001b[0m 3ms/step - loss: 0.2069\n",
      "Epoch 3/10\n",
      "\u001b[1m157/157\u001b[0m \u001b[32m━━━━━━━━━━━━━━━━━━━━\u001b[0m\u001b[37m\u001b[0m \u001b[1m1s\u001b[0m 4ms/step - loss: 0.1326\n",
      "Epoch 4/10\n",
      "\u001b[1m157/157\u001b[0m \u001b[32m━━━━━━━━━━━━━━━━━━━━\u001b[0m\u001b[37m\u001b[0m \u001b[1m1s\u001b[0m 2ms/step - loss: 0.1082\n",
      "Epoch 5/10\n",
      "\u001b[1m157/157\u001b[0m \u001b[32m━━━━━━━━━━━━━━━━━━━━\u001b[0m\u001b[37m\u001b[0m \u001b[1m1s\u001b[0m 4ms/step - loss: 0.0755\n",
      "Epoch 6/10\n",
      "\u001b[1m157/157\u001b[0m \u001b[32m━━━━━━━━━━━━━━━━━━━━\u001b[0m\u001b[37m\u001b[0m \u001b[1m1s\u001b[0m 4ms/step - loss: 0.0588\n",
      "Epoch 7/10\n",
      "\u001b[1m157/157\u001b[0m \u001b[32m━━━━━━━━━━━━━━━━━━━━\u001b[0m\u001b[37m\u001b[0m \u001b[1m1s\u001b[0m 3ms/step - loss: 0.0369\n",
      "Epoch 8/10\n",
      "\u001b[1m157/157\u001b[0m \u001b[32m━━━━━━━━━━━━━━━━━━━━\u001b[0m\u001b[37m\u001b[0m \u001b[1m1s\u001b[0m 6ms/step - loss: 0.0381\n",
      "Epoch 9/10\n",
      "\u001b[1m157/157\u001b[0m \u001b[32m━━━━━━━━━━━━━━━━━━━━\u001b[0m\u001b[37m\u001b[0m \u001b[1m1s\u001b[0m 8ms/step - loss: 0.0384\n",
      "Epoch 10/10\n",
      "\u001b[1m157/157\u001b[0m \u001b[32m━━━━━━━━━━━━━━━━━━━━\u001b[0m\u001b[37m\u001b[0m \u001b[1m2s\u001b[0m 3ms/step - loss: 0.0395\n"
     ]
    }
   ],
   "source": [
    "### Q4A)\n",
    "\n",
    "model = Sequential()\n",
    "#Hidden Layer 1 with 8 neurons using tanh as activation function\n",
    "model.add(Dense(8, input_shape=(X_train_scaled.shape[1],), activation = 'tanh'))\n",
    "#Hidden Layer 2 with 8 neurons using tanh as activation function\n",
    "model.add(Dense(8, activation='tanh'))\n",
    "#Hidden Layer 3 with 8 neurons using tanh as activation function\n",
    "model.add(Dense(8, activation='tanh'))\n",
    "#Output Layer with 1 neuron using sigmoid as activation function\n",
    "model.add(Dense(1, activation='sigmoid'))\n",
    "\n",
    "#compile the model using Stochastic gradient descent with learning rate of 0.1\n",
    "#assuming binary crossentropy is the loss as 4b asks to plot that\n",
    "model.compile(optimizer = SGD(learning_rate=0.1), loss='binary_crossentropy')\n",
    "\n",
    "#Training time for 4D\n",
    "train_start=time.time()\n",
    "#fit the model and run it 10 iteration and print it (verbose)\n",
    "history =model.fit(X_train_scaled, y_train, epochs = 10, verbose=1)\n",
    "train_stop=time.time()\n",
    "\n"
   ]
  },
  {
   "cell_type": "code",
   "execution_count": 15,
   "metadata": {
    "colab": {
     "base_uri": "https://localhost:8080/",
     "height": 472
    },
    "id": "Wzi2ZUQQxVmU",
    "outputId": "b77cc966-7292-48e2-cb84-4c199ef8ff89"
   },
   "outputs": [
    {
     "data": {
      "image/png": "[encoded data removed]",
      "text/plain": [
       "<Figure size 640x480 with 1 Axes>"
      ]
     },
     "metadata": {},
     "output_type": "display_data"
    }
   ],
   "source": [
    "### Q4B)\n",
    "\n",
    "#Get the loss values from each Epochs ran in 4A\n",
    "loss = history.history['loss']\n",
    "\n",
    "#Graph with epoch 1-10 in the x-axis and thier loss values in the y-axis\n",
    "plt.plot(range(1, 11), loss)\n",
    "plt.xlabel('Epochs')\n",
    "plt.ylabel('Loss')\n",
    "plt.title('Binary Cross Entropy')\n",
    "plt.show()"
   ]
  },
  {
   "cell_type": "code",
   "execution_count": 16,
   "metadata": {
    "colab": {
     "base_uri": "https://localhost:8080/"
    },
    "id": "k3ncomEIxVmU",
    "outputId": "10de7a89-0b42-40bb-8bf4-4f74f31664d6"
   },
   "outputs": [
    {
     "name": "stdout",
     "output_type": "stream",
     "text": [
      "\u001b[1m157/157\u001b[0m \u001b[32m━━━━━━━━━━━━━━━━━━━━\u001b[0m\u001b[37m\u001b[0m \u001b[1m1s\u001b[0m 4ms/step\n",
      "Recall:  0.9882697947214076\n",
      "Preceision:  0.9601139601139601\n",
      "F1 Score:  0.9739884393063584\n"
     ]
    }
   ],
   "source": [
    "### Q4C)\n",
    "\n",
    "#Testing time for 4D\n",
    "test_start=time.time()\n",
    "#Print out the precision, recall, and F1-score of the test set\n",
    "y_pred_test = model.predict(X_test_scaled)\n",
    "test_stop=time.time()\n",
    "#Using round on y_pred_test to keep the values either 0,1\n",
    "#Performance of Recall\n",
    "calculated_recall = recall_score(y_test, y_pred_test.round())\n",
    "\n",
    "#Performance of Preceision\n",
    "calculated_precision = precision_score(y_test, y_pred_test.round())\n",
    "\n",
    "#Performance of f1 score\n",
    "calculated_f1 = f1_score(y_test, y_pred_test.round())\n",
    "\n",
    "#Prining performances\n",
    "print(\"Recall: \",calculated_recall)\n",
    "print(\"Preceision: \",calculated_precision)\n",
    "print(\"F1 Score: \",calculated_f1)"
   ]
  },
  {
   "cell_type": "code",
   "execution_count": 17,
   "metadata": {
    "colab": {
     "base_uri": "https://localhost:8080/"
    },
    "id": "9hMba18sxVmU",
    "outputId": "7e40f491-5355-4897-8eb7-c3fda63c966f"
   },
   "outputs": [
    {
     "name": "stdout",
     "output_type": "stream",
     "text": [
      "Execution Time:  12.49\n"
     ]
    }
   ],
   "source": [
    "### Q4D)\n",
    "\n",
    "#get execution time from training time and testing time\n",
    "train_time=train_stop-train_start\n",
    "test_time=test_stop-test_start\n",
    "exec_time= train_time+test_time\n",
    "\n",
    "#printing execution time\n",
    "print(\"Execution Time: \", format(exec_time, '.2f'))"
   ]
  },
  {
   "cell_type": "markdown",
   "metadata": {
    "id": "9aht593ZxVmU"
   },
   "source": [
    "#### Q4E)  \n",
    "\n",
    "When comparing the performance and execution time of the single layer neural network and MLP model we see that the execution time of the single layer was 10.77 which was slightly better than MLP's 12.49. But when we compare performance the MLP dominates the single layer as its performance for preceision, recall, and f1 are above 95 where as single layer's preceision, recall, and f1 as all below 90%. I think that MLP performs far better with a slightly longer execution time."
   ]
  },
  {
   "cell_type": "markdown",
   "metadata": {
    "id": "lodgOVHSxVmU"
   },
   "source": [
    "## Question 5: Hyperparameter Optimization (10 Bonus pts)\n",
    "A) Build a Random Forest model. Use grid search to tune two hyperparameters:\n",
    "* The number of base decision trees (find the best number among 50, 100, 200).\n",
    "* The maximum tree depth (find the best number among 10, 20).\n",
    "\n",
    "Implement grid search to identify optimal hyperparameter values, and print out the best hyperparameter values and the best cross-validation accuracy.\n",
    "\n",
    "You can use 3-fold GridSearchCV function on the standarized training set to do this.\n",
    "\n",
    "B) Build the optimized Random Forest model on the standarized training set by using the detected best hyperparameter values. Print out the precision, recall, and F1-score of the optimized RF model on the standarized test set.\n"
   ]
  },
  {
   "cell_type": "code",
   "execution_count": 18,
   "metadata": {
    "id": "AAyQes21xVmU"
   },
   "outputs": [],
   "source": [
    "### Q5A)"
   ]
  },
  {
   "cell_type": "code",
   "execution_count": 19,
   "metadata": {
    "id": "jxnd6XJwxVmV"
   },
   "outputs": [],
   "source": [
    "### Q5B)"
   ]
  },
  {
   "cell_type": "markdown",
   "metadata": {
    "id": "pdcMy6ivxVmV"
   },
   "source": [
    "## Make sure to add sufficient comments to your code, and run the entire code before submitting."
   ]
  },
  {
   "cell_type": "markdown",
   "metadata": {
    "id": "PJVoE81IfEIp"
   },
   "source": [
    "Reference List\n",
    "\n",
    "Cloud, S. (2023a, June 19). Python pandas convert valuecounts output to dataframe. Saturn Cloud Blog. https://saturncloud.io/blog/python-pandas-convert-valuecounts-output-to-dataframe/#:~:text=value_counts()%20method%20is%20a,count%20is%20the%20corresponding%20value.&text=As%20you%20can%20see%2C%20the%20output%20of%20\n",
    "Cloud, S. (2023b, June 19). Python pandas convert valuecounts output to dataframe. Saturn Cloud Blog. https://saturncloud.io/blog/python-pandas-convert-valuecounts-output-to-dataframe/#:~:text=value_counts()%20method%20is%20a,count%20is%20the%20corresponding%20value.&text=As%20you%20can%20see%2C%20the%20output%20of%20\n",
    "GeeksforGeeks. (2024a, April 5). Feature importance with random forests. GeeksforGeeks. https://www.geeksforgeeks.org/feature-importance-with-random-forests/\n",
    "GeeksforGeeks. (2024b, June 28). How to get column names in Pandas. GeeksforGeeks. https://www.geeksforgeeks.org/how-to-get-column-names-in-pandas-dataframe/\n",
    "ishido. (2024, February). How to return history of validation loss in Keras. Stack Overflow. https://stackoverflow.com/questions/36952763/how-to-return-history-of-validation-loss-in-keras\n",
    "Keras documentation: Probabilistic losses. Keras. (n.d.-a). https://keras.io/api/losses/probabilistic_losses/#binarycrossentropy-class\n",
    "Kreiger, J. (2020, January 12). Evaluating a random forest model. Medium. https://medium.com/analytics-vidhya/evaluating-a-random-forest-model-9d165595ad56\n",
    "Rahbek, O. (2020, August 17). How do you find the number of observations in a data set?. Quora. https://www.quora.com/How-do-you-find-the-number-of-observations-in-a-data-set\n",
    "SEDIRI, A. (2016, June 24). Accuracy score ValueError: Can’t handle mix of binary and continuous target. Stack Overflow. https://stackoverflow.com/questions/38015181/accuracy-score-valueerror-cant-handle-mix-of-binary-and-continuous-target\n",
    "SGD. Keras. (n.d.-b). https://keras.io/api/optimizers/sgd/"
   ]
  }
 ],
 "metadata": {
  "accelerator": "GPU",
  "colab": {
   "gpuType": "T4",
   "provenance": []
  },
  "kernelspec": {
   "display_name": "Python 3 (ipykernel)",
   "language": "python",
   "name": "python3"
  },
  "language_info": {
   "codemirror_mode": {
    "name": "ipython",
    "version": 3
   },
   "file_extension": ".py",
   "mimetype": "text/x-python",
   "name": "python",
   "nbconvert_exporter": "python",
   "pygments_lexer": "ipython3",
   "version": "3.9.12"
  }
 },
 "nbformat": 4,
 "nbformat_minor": 1
}
